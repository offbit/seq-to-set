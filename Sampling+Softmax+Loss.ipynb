{
 "cells": [
  {
   "cell_type": "code",
   "execution_count": 1,
   "metadata": {
    "collapsed": true
   },
   "outputs": [],
   "source": [
    "import pylab as pl\n",
    "import numpy as np\n",
    "import scipy.stats as st\n",
    "\n",
    "%matplotlib inline\n",
    "\n",
    "import torch\n",
    "import torch.nn as nn\n",
    "import torch.nn.functional as F\n",
    "from torch.autograd import Variable\n",
    "from torch.utils.data import DataLoader\n",
    "\n",
    "import data_loader\n",
    "from modules import weight_init\n",
    "from helpers import get_precision_recall"
   ]
  },
  {
   "cell_type": "markdown",
   "metadata": {},
   "source": [
    "# Load data"
   ]
  },
  {
   "cell_type": "code",
   "execution_count": 36,
   "metadata": {},
   "outputs": [
    {
     "name": "stdout",
     "output_type": "stream",
     "text": [
      "Loaded dataset of shape:(5058, 200)\n",
      "Number of unique items: 3955\n",
      "Loaded dataset of shape:(611, 200)\n",
      "Number of unique items: 3955\n"
     ]
    }
   ],
   "source": [
    "PADDING_IDX = 0\n",
    "\n",
    "train, test, _ = data_loader.read_dataset()\n",
    "db = data_loader.InteractionsSampler(train.sequences, train.sequence_lengths, \n",
    "                                     template_size=40, query_size=10, min_nb_interactions=50, \n",
    "                                     num_negative=1000, perturb_prob=0.05)\n",
    "\n",
    "db_test = data_loader.InteractionsSampler(test.sequences, test.sequence_lengths, \n",
    "                                          template_size=40, query_size=10, min_nb_interactions=50,\n",
    "                                          num_negative=1000, perturb_prob=0.00)\n",
    "\n",
    "train_loader = DataLoader(db, batch_size=128, num_workers=2)\n",
    "test_loader = DataLoader(db_test, batch_size=1)\n"
   ]
  },
  {
   "cell_type": "markdown",
   "metadata": {},
   "source": [
    "# Define model\n",
    "\n",
    "We train the model by creating a softmax of the dot product and computing the cross entropy loss.\n",
    "\n",
    "    P(item|encoding) = exp(dot(encoding, item)) / SUM_i( exp(dot(encoding, item_i)) )\n"
   ]
  },
  {
   "cell_type": "code",
   "execution_count": 156,
   "metadata": {
    "collapsed": true
   },
   "outputs": [],
   "source": [
    "class SeqModel(nn.Module):\n",
    "    \"\"\"Container module with an encoder, deocder, embeddings.\"\"\"\n",
    "\n",
    "    def __init__(self, src_emb_dim, src_vocab_size, src_hidden_dim, trg_hidden_dim,\n",
    "            pad_token_src=PADDING_IDX, nlayers=2, dropout=0.1):\n",
    "        \"\"\"Initialize model.\"\"\"\n",
    "        super(SeqModel, self).__init__()\n",
    "        self.src_vocab_size = src_vocab_size\n",
    "        self.src_emb_dim = src_emb_dim\n",
    "        self.src_hidden_dim = src_hidden_dim\n",
    "        self.trg_hidden_dim = trg_hidden_dim       \n",
    "        self.nlayers = nlayers\n",
    "        self.dropout = dropout\n",
    "        self.pad_token_src = pad_token_src\n",
    "        self.src_hidden_dim = src_hidden_dim\n",
    "\n",
    "        self.src_embedding = nn.Embedding(src_vocab_size, src_emb_dim, padding_idx=self.pad_token_src)\n",
    "        self.encoder = nn.GRU(\n",
    "            src_emb_dim,\n",
    "            self.src_hidden_dim,\n",
    "            nlayers,\n",
    "            batch_first=True,\n",
    "            dropout=self.dropout\n",
    "        )\n",
    "        self.enc2emb = nn.Linear(trg_hidden_dim, src_emb_dim)\n",
    "        self.init_weights()\n",
    "\n",
    "    def init_weights(self):\n",
    "        \"\"\"Initialize weights.\"\"\"\n",
    "        self.src_embedding.weight.data.uniform_(0, 0.1)\n",
    "        weight_init(self.enc2emb)\n",
    "\n",
    "    def encode(self, input_src):\n",
    "        \"\"\"Propogate input through the encoder.\"\"\"\n",
    "        src_emb = self.src_embedding(input_src)\n",
    "        src_h, _ = self.encoder(src_emb)\n",
    "        return src_h\n",
    "    \n",
    "    def decode_one_step(self, state, input_trg_pos, input_trg_neg):\n",
    "        \"\"\"Will use the last hidden representation to predict the next step (1st element of input_trg_pos)\"\"\"\n",
    "        \n",
    "        trg_emb_pos = self.src_embedding(input_trg_pos)\n",
    "        trg_emb_neg = Variable(self.src_embedding(input_trg_neg).data)\n",
    "        batch_size = input_trg_pos.size(0)\n",
    "        labels = Variable(torch.LongTensor(batch_size).fill_(0).cuda()).detach()\n",
    "        nb_neg_samples = input_trg_neg.size(1)\n",
    "        \n",
    "        emb = self.enc2emb(state[:,-1])\n",
    "        # create a concat of [Positive Sample; N negative samples]\n",
    "\n",
    "        out = (emb.unsqueeze(1)).repeat(1, 1 + nb_neg_samples, 1)\n",
    "        combo = torch.cat((trg_emb_pos[:,1].unsqueeze(1), trg_emb_neg), dim=1)\n",
    "\n",
    "        pred = (combo*out).sum(2)\n",
    "        pred = pred\n",
    "        loss = F.cross_entropy(pred, labels)\n",
    "        \n",
    "        return out, loss, 0.0\n",
    "    \n",
    "    def decode_sequence(self, state, input_trg_pos, input_trg_neg):\n",
    "        \"\"\"Next stem prediction by creating softmax \"\"\"\n",
    "        batch_size = input_trg_pos.size(0)\n",
    "        trg_emb_pos = self.src_embedding(input_trg_pos)\n",
    "        trg_emb_neg = Variable(self.src_embedding(input_trg_neg).data) # stop gradients\n",
    "        nb_neg_samples = input_trg_neg.size(1)\n",
    "\n",
    "        labels = Variable(torch.LongTensor(batch_size).fill_(0).cuda()).detach()\n",
    "        \n",
    "        nb_steps = trg_emb_pos.size(1)\n",
    "        out = self.enc2emb(state[:,:])\n",
    "        total_loss = 0.0\n",
    "        predictions = []\n",
    "        for i in range(nb_steps):\n",
    "            combo = torch.cat((trg_emb_pos[:,i].unsqueeze(1), trg_emb_neg), dim=1)\n",
    "            step_out = (out[:,i].unsqueeze(1)).repeat(1, 1 + nb_neg_samples, 1)\n",
    "            pred = (combo*step_out).sum(2)\n",
    "            predictions.append(pred)\n",
    "            total_loss+=F.cross_entropy(pred, labels)\n",
    "        return predictions, total_loss\n",
    "        \n",
    "    def predict_one_step(self, state, test_items):\n",
    "        \"\"\"predict the next step by computing the dot product of the encoder state and the test_items\"\"\"\n",
    "        nb_test_items = test_items.size(1)\n",
    "        test_emb = self.src_embedding(test_items)\n",
    "        outputs = []\n",
    "        in_ = self.enc2emb(state[:,-1])\n",
    "        out = (in_.unsqueeze(1)).repeat(1, nb_test_items, 1)\n",
    "        pred = (test_emb*out).sum(2)\n",
    "        return pred"
   ]
  },
  {
   "cell_type": "code",
   "execution_count": 157,
   "metadata": {},
   "outputs": [
    {
     "data": {
      "text/plain": [
       "SeqModel (\n",
       "  (src_embedding): Embedding(3955, 32, padding_idx=0)\n",
       "  (encoder): GRU(32, 700, batch_first=True, dropout=0.1)\n",
       "  (enc2emb): Linear (700 -> 32)\n",
       ")"
      ]
     },
     "execution_count": 157,
     "metadata": {},
     "output_type": "execute_result"
    }
   ],
   "source": [
    "model = SeqModel(32, db.num_items, 700, 700, 0, nlayers=1)\n",
    "model.cuda()"
   ]
  },
  {
   "cell_type": "code",
   "execution_count": 158,
   "metadata": {
    "collapsed": true
   },
   "outputs": [],
   "source": [
    "parameters = model.parameters()\n",
    "optimizer = torch.optim.Adam(\n",
    "    parameters,\n",
    "    weight_decay=0.0005,\n",
    "    lr=0.0001\n",
    ")\n"
   ]
  },
  {
   "cell_type": "code",
   "execution_count": null,
   "metadata": {
    "scrolled": false
   },
   "outputs": [
    {
     "name": "stdout",
     "output_type": "stream",
     "text": [
      "epoch 0 mean loss 259.946183013916\n"
     ]
    }
   ],
   "source": [
    "model.train(True)\n",
    "emb_0 = None\n",
    "total_epochs = 100 \n",
    "for e in range(total_epochs):\n",
    "    total_loss = []\n",
    "    for i, batch in enumerate(train_loader):\n",
    "        basket, positive, negative, basket_len = batch\n",
    "        basket_vb = Variable(basket.cuda())\n",
    "        positive_vb = Variable(positive[:,1:-1].cuda())\n",
    "        negative_vb = Variable(negative[:,1:-1].cuda())\n",
    "        \n",
    "        emb = model.encode(basket_vb[:,:-1])\n",
    "        teacher = False\n",
    "        if np.random.rand() < 0.2:\n",
    "            teacher = True\n",
    "        if i == 0:\n",
    "            emb_0 = emb # save encoder state for debugging \n",
    "        pred, loss = model.decode_sequence(emb, basket_vb[:,1:], negative_vb)\n",
    "        optimizer.zero_grad()\n",
    "        loss.backward()\n",
    "        torch.nn.utils.clip_grad_norm(model.parameters(), 8.0)\n",
    "        optimizer.step()\n",
    "        total_loss.append(loss.data[0])\n",
    "    if e % 5 ==0:\n",
    "        print(\"epoch {} mean loss {}\".format(e, np.mean(total_loss)))"
   ]
  },
  {
   "cell_type": "markdown",
   "metadata": {},
   "source": [
    "Visualize the embedding. It helps detect diverging architectures."
   ]
  },
  {
   "cell_type": "code",
   "execution_count": 171,
   "metadata": {},
   "outputs": [
    {
     "name": "stdout",
     "output_type": "stream",
     "text": [
      "(39, 700)\n"
     ]
    },
    {
     "data": {
      "text/plain": [
       "<matplotlib.image.AxesImage at 0x7fa468bb0f28>"
      ]
     },
     "execution_count": 171,
     "metadata": {},
     "output_type": "execute_result"
    },
    {
     "data": {
      "image/png": "[encoded data removed]",
      "text/plain": [
       "<matplotlib.figure.Figure at 0x7fa468bb2400>"
      ]
     },
     "metadata": {},
     "output_type": "display_data"
    }
   ],
   "source": [
    "x = emb_0[52].data.cpu().numpy()\n",
    "pl.figure(figsize=(10,12))\n",
    "print(x.shape)\n",
    "pl.imshow(x[:,:128].T, cmap='flag')\n"
   ]
  },
  {
   "cell_type": "markdown",
   "metadata": {},
   "source": [
    "## Evaluate the test set. Report MRR and map@10"
   ]
  },
  {
   "cell_type": "code",
   "execution_count": 173,
   "metadata": {},
   "outputs": [
    {
     "name": "stdout",
     "output_type": "stream",
     "text": [
      "Mrr:0.005430412072611628\n",
      "mean prec: 0.008019639934533552 , mean recall: 0.008019639934533552\n"
     ]
    }
   ],
   "source": [
    "\n",
    "# switch to train mode\n",
    "model.train(False)\n",
    "item_ids = np.arange(db.num_items).reshape(1, -1)\n",
    "item_ids = Variable(torch.from_numpy(item_ids.astype(np.int64)).cuda())\n",
    "mrrs = []\n",
    "\n",
    "prec = []\n",
    "recall = []\n",
    "item_emb = model.src_embedding(item_ids)\n",
    "for i, (basket, positive, negative, labels) in enumerate(test_loader):\n",
    "    basket_vb = Variable(basket.cuda())\n",
    "    emb = model.encode(basket_vb)\n",
    "#         positive = positive[:,1:-1].numpy()\n",
    "    positive_vb = Variable(positive[:,0].cuda())\n",
    "\n",
    "    out =  model.predict_one_step(emb, item_ids )\n",
    "    out = -out.data.cpu().numpy().flatten()\n",
    "    positive = positive.numpy()\n",
    "    next_item = positive[0, 1:-1]\n",
    "    # compute mrr\n",
    "    mrr1 = (1.0 / st.rankdata(out)[next_item[0]]).mean()\n",
    "    mrrs.append(mrr1)\n",
    "    out = out.argsort()\n",
    "    prec_, recall_ = get_precision_recall(out, next_item, 10)\n",
    "    prec.append(prec_)\n",
    "    recall.append(recall_)\n",
    "\n",
    "print('Mrr:{}'.format(np.mean(mrrs)))\n",
    "print('mean prec: {} , mean recall: {}'.format(np.mean(prec),\n",
    "                                               np.mean(recall)))"
   ]
  }
 ],
 "metadata": {
  "kernelspec": {
   "display_name": "Python 3",
   "language": "python",
   "name": "python3"
  }
 },
 "nbformat": 4,
 "nbformat_minor": 2
}
